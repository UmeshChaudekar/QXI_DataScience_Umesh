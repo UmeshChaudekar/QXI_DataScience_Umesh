{
 "cells": [
  {
   "cell_type": "markdown",
   "metadata": {},
   "source": [
    "# HealthCare\n",
    "---\n",
    "This includes a dataset representing insurance costs for individuals. It uses information such as age, sex, bmi, and smoking habits to determine the cost on the insurance company for that person.\n",
    "\n",
    "The idea is to present a machine learning model that predicts the cost with the highest accuracy."
   ]
  },
  {
   "cell_type": "markdown",
   "metadata": {},
   "source": [
    "## Insurance HealthCare Costs\n",
    "---\n",
    "\n",
    "This observes the cost of healthcare for a sample of the population given smoking habits, age, sex, bmi, and region. The data features observations of statistical informaton and regression analysis of the dataset.\n",
    "\n",
    "The goal is to find the best estimator of insurance charges using machine learning algorithms. \n",
    "\n",
    "---\n",
    "\n",
    "### Acknowledgements\n",
    "Data imported from [Kaggle](https://www.kaggle.com/mirichoi0218/insurance). Visit their page for publicly available datasets to practice with ML and creating pipelines."
   ]
  },
  {
   "cell_type": "code",
   "execution_count": 2,
   "metadata": {},
   "outputs": [
    {
     "data": {
      "text/html": [
       "<div>\n",
       "<style scoped>\n",
       "    .dataframe tbody tr th:only-of-type {\n",
       "        vertical-align: middle;\n",
       "    }\n",
       "\n",
       "    .dataframe tbody tr th {\n",
       "        vertical-align: top;\n",
       "    }\n",
       "\n",
       "    .dataframe thead th {\n",
       "        text-align: right;\n",
       "    }\n",
       "</style>\n",
       "<table border=\"1\" class=\"dataframe\">\n",
       "  <thead>\n",
       "    <tr style=\"text-align: right;\">\n",
       "      <th></th>\n",
       "      <th>age</th>\n",
       "      <th>sex</th>\n",
       "      <th>bmi</th>\n",
       "      <th>children</th>\n",
       "      <th>smoker</th>\n",
       "      <th>region</th>\n",
       "      <th>charges</th>\n",
       "    </tr>\n",
       "  </thead>\n",
       "  <tbody>\n",
       "    <tr>\n",
       "      <th>0</th>\n",
       "      <td>19</td>\n",
       "      <td>female</td>\n",
       "      <td>27.900</td>\n",
       "      <td>0</td>\n",
       "      <td>yes</td>\n",
       "      <td>southwest</td>\n",
       "      <td>16884.92400</td>\n",
       "    </tr>\n",
       "    <tr>\n",
       "      <th>1</th>\n",
       "      <td>18</td>\n",
       "      <td>male</td>\n",
       "      <td>33.770</td>\n",
       "      <td>1</td>\n",
       "      <td>no</td>\n",
       "      <td>southeast</td>\n",
       "      <td>1725.55230</td>\n",
       "    </tr>\n",
       "    <tr>\n",
       "      <th>2</th>\n",
       "      <td>28</td>\n",
       "      <td>male</td>\n",
       "      <td>33.000</td>\n",
       "      <td>3</td>\n",
       "      <td>no</td>\n",
       "      <td>southeast</td>\n",
       "      <td>4449.46200</td>\n",
       "    </tr>\n",
       "    <tr>\n",
       "      <th>3</th>\n",
       "      <td>33</td>\n",
       "      <td>male</td>\n",
       "      <td>22.705</td>\n",
       "      <td>0</td>\n",
       "      <td>no</td>\n",
       "      <td>northwest</td>\n",
       "      <td>21984.47061</td>\n",
       "    </tr>\n",
       "    <tr>\n",
       "      <th>4</th>\n",
       "      <td>32</td>\n",
       "      <td>male</td>\n",
       "      <td>28.880</td>\n",
       "      <td>0</td>\n",
       "      <td>no</td>\n",
       "      <td>northwest</td>\n",
       "      <td>3866.85520</td>\n",
       "    </tr>\n",
       "  </tbody>\n",
       "</table>\n",
       "</div>"
      ],
      "text/plain": [
       "   age     sex     bmi  children smoker     region      charges\n",
       "0   19  female  27.900         0    yes  southwest  16884.92400\n",
       "1   18    male  33.770         1     no  southeast   1725.55230\n",
       "2   28    male  33.000         3     no  southeast   4449.46200\n",
       "3   33    male  22.705         0     no  northwest  21984.47061\n",
       "4   32    male  28.880         0     no  northwest   3866.85520"
      ]
     },
     "execution_count": 2,
     "metadata": {},
     "output_type": "execute_result"
    }
   ],
   "source": [
    "import numpy as np\n",
    "import pandas as pd\n",
    "import seaborn as sns\n",
    "import matplotlib.pyplot as plt\n",
    "\n",
    "%matplotlib inline\n",
    "\n",
    "df = pd.read_csv('insurance.csv') # import the CSV as a pandas dataframe\n",
    "\n",
    "df.head() # show the first five rows"
   ]
  },
  {
   "cell_type": "code",
   "execution_count": 4,
   "metadata": {},
   "outputs": [
    {
     "name": "stdout",
     "output_type": "stream",
     "text": [
      "Series([], dtype: float64) %\n"
     ]
    }
   ],
   "source": [
    "# check for missing values\n",
    "missing_values = df.isnull().sum().sort_values(ascending = False)\n",
    "missing_values = missing_values[missing_values > 0]/df.shape[0] # normalize\n",
    "print(f'{missing_values *100} %')"
   ]
  },
  {
   "cell_type": "markdown",
   "metadata": {},
   "source": [
    "No missing values, we can move on."
   ]
  },
  {
   "cell_type": "code",
   "execution_count": 5,
   "metadata": {},
   "outputs": [
    {
     "data": {
      "text/html": [
       "<div>\n",
       "<style scoped>\n",
       "    .dataframe tbody tr th:only-of-type {\n",
       "        vertical-align: middle;\n",
       "    }\n",
       "\n",
       "    .dataframe tbody tr th {\n",
       "        vertical-align: top;\n",
       "    }\n",
       "\n",
       "    .dataframe thead th {\n",
       "        text-align: right;\n",
       "    }\n",
       "</style>\n",
       "<table border=\"1\" class=\"dataframe\">\n",
       "  <thead>\n",
       "    <tr style=\"text-align: right;\">\n",
       "      <th></th>\n",
       "      <th>age</th>\n",
       "      <th>sex</th>\n",
       "      <th>bmi</th>\n",
       "      <th>children</th>\n",
       "      <th>smoker</th>\n",
       "      <th>region</th>\n",
       "      <th>charges</th>\n",
       "    </tr>\n",
       "  </thead>\n",
       "  <tbody>\n",
       "    <tr>\n",
       "      <th>0</th>\n",
       "      <td>1</td>\n",
       "      <td>0</td>\n",
       "      <td>197</td>\n",
       "      <td>0</td>\n",
       "      <td>1</td>\n",
       "      <td>3</td>\n",
       "      <td>1005</td>\n",
       "    </tr>\n",
       "    <tr>\n",
       "      <th>1</th>\n",
       "      <td>0</td>\n",
       "      <td>1</td>\n",
       "      <td>350</td>\n",
       "      <td>1</td>\n",
       "      <td>0</td>\n",
       "      <td>2</td>\n",
       "      <td>57</td>\n",
       "    </tr>\n",
       "    <tr>\n",
       "      <th>2</th>\n",
       "      <td>10</td>\n",
       "      <td>1</td>\n",
       "      <td>331</td>\n",
       "      <td>3</td>\n",
       "      <td>0</td>\n",
       "      <td>2</td>\n",
       "      <td>306</td>\n",
       "    </tr>\n",
       "    <tr>\n",
       "      <th>3</th>\n",
       "      <td>15</td>\n",
       "      <td>1</td>\n",
       "      <td>73</td>\n",
       "      <td>0</td>\n",
       "      <td>0</td>\n",
       "      <td>1</td>\n",
       "      <td>1097</td>\n",
       "    </tr>\n",
       "    <tr>\n",
       "      <th>4</th>\n",
       "      <td>14</td>\n",
       "      <td>1</td>\n",
       "      <td>223</td>\n",
       "      <td>0</td>\n",
       "      <td>0</td>\n",
       "      <td>1</td>\n",
       "      <td>254</td>\n",
       "    </tr>\n",
       "  </tbody>\n",
       "</table>\n",
       "</div>"
      ],
      "text/plain": [
       "   age  sex  bmi  children  smoker  region  charges\n",
       "0    1    0  197         0       1       3     1005\n",
       "1    0    1  350         1       0       2       57\n",
       "2   10    1  331         3       0       2      306\n",
       "3   15    1   73         0       0       1     1097\n",
       "4   14    1  223         0       0       1      254"
      ]
     },
     "execution_count": 5,
     "metadata": {},
     "output_type": "execute_result"
    }
   ],
   "source": [
    "from sklearn.preprocessing import LabelEncoder\n",
    "\n",
    "# convert str values to int using the scikit-learn encoder\n",
    "\n",
    "st = df.apply(LabelEncoder().fit_transform)\n",
    "\n",
    "st.head()"
   ]
  },
  {
   "cell_type": "markdown",
   "metadata": {},
   "source": [
    "Using the converted dataset, we can visualize the correlation heatmap"
   ]
  },
  {
   "cell_type": "code",
   "execution_count": 6,
   "metadata": {},
   "outputs": [
    {
     "data": {
      "image/png": "[encoded data removed]",
      "text/plain": [
       "<Figure size 1008x864 with 2 Axes>"
      ]
     },
     "metadata": {},
     "output_type": "display_data"
    }
   ],
   "source": [
    "sns.set(color_codes=True)\n",
    "plt.figure(figsize=(14, 12))\n",
    "sns.heatmap(st.astype(float).corr(), \n",
    "            linewidths=0.2, \n",
    "            square=True, \n",
    "            linecolor='white', \n",
    "            annot=True,\n",
    "            cmap=\"YlGnBu\")\n",
    "plt.show()"
   ]
  },
  {
   "cell_type": "markdown",
   "metadata": {},
   "source": [
    "Seems like age and smoking weigh the most when looking at the charges row (or column). We expect the weights of these two to be higher than the rest.   "
   ]
  },
  {
   "cell_type": "code",
   "execution_count": 12,
   "metadata": {},
   "outputs": [
    {
     "data": {
      "text/plain": [
       "<seaborn.axisgrid.FacetGrid at 0x1a0906feb38>"
      ]
     },
     "execution_count": 12,
     "metadata": {},
     "output_type": "execute_result"
    },
    {
     "data": {
      "image/png": "[encoded data removed]",
      "text/plain": [
       "<Figure size 720x360 with 2 Axes>"
      ]
     },
     "metadata": {},
     "output_type": "display_data"
    }
   ],
   "source": [
    "g = sns.FacetGrid(df, col=\"smoker\",  height= 5, sharey=False, sharex = True)\n",
    "g.map(sns.distplot, \"charges\", color = 'r');\n",
    "g.set_axis_labels(\"charges\", \"proportion\");\n",
    "g.despine(left=True)"
   ]
  },
  {
   "cell_type": "markdown",
   "metadata": {},
   "source": [
    "No surprise that smokers pay more for healtcare."
   ]
  },
  {
   "cell_type": "code",
   "execution_count": 8,
   "metadata": {},
   "outputs": [
    {
     "data": {
      "image/png": "[encoded data removed]",
      "text/plain": [
       "<Figure size 936x432 with 1 Axes>"
      ]
     },
     "metadata": {},
     "output_type": "display_data"
    }
   ],
   "source": [
    "plt.figure(figsize=(13,6))\n",
    "plt.title(\"Distribution of age\")\n",
    "ax = sns.distplot(df[\"age\"], color = 'purple')"
   ]
  },
  {
   "cell_type": "markdown",
   "metadata": {},
   "source": [
    "Judging by the party life at UVa, we can see why so many young adults even seek medical care."
   ]
  },
  {
   "cell_type": "code",
   "execution_count": 9,
   "metadata": {},
   "outputs": [
    {
     "data": {
      "image/png": "[encoded data removed]",
      "text/plain": [
       "<Figure size 432.85x360 with 1 Axes>"
      ]
     },
     "metadata": {},
     "output_type": "display_data"
    }
   ],
   "source": [
    "sns.catplot(x=\"smoker\", kind=\"count\", hue = 'sex', data = df , palette='pastel');\n",
    "plt.show()"
   ]
  },
  {
   "cell_type": "markdown",
   "metadata": {},
   "source": [
    "Luckily, the majority understands the downsides of smoking.\n",
    "\n",
    "The data seems pretty balanced with a slight skew towards male."
   ]
  },
  {
   "cell_type": "code",
   "execution_count": 11,
   "metadata": {},
   "outputs": [
    {
     "data": {
      "image/png": "[encoded data removed]",
      "text/plain": [
       "<Figure size 560.6x504 with 1 Axes>"
      ]
     },
     "metadata": {},
     "output_type": "display_data"
    }
   ],
   "source": [
    "sns.lmplot(x=\"age\", y=\"charges\", hue=\"smoker\", data=df, palette=dict(yes=\"r\", no=\"g\"), height = 7);\n",
    "ax.set_title('Smokers and non-smokers');\n",
    "plt.show()"
   ]
  },
  {
   "cell_type": "markdown",
   "metadata": {},
   "source": [
    "While it seems obvious that the charges increase linearly with age, smoking appears to be the highest contributor to charges."
   ]
  },
  {
   "cell_type": "markdown",
   "metadata": {},
   "source": [
    "### Machine Learning\n",
    "\n",
    "First step is to apply get dummies which works like this: \n",
    "\n",
    "The `pandas.get_dummies` converts the vectors of categorical features into a vector-matrix multiplication with a boolean matrix of ones and zeros. This will be more useful since our regressor will treat the inputs as numbers instead of integers.\n",
    "\n",
    "Here is an example of how it works:\n",
    "\n",
    "$\\vec{b}=\\beta \\vec{x}$\n",
    "\n",
    "Observe how the dummies matrix is represented for the smoker categorical feature:\n",
    "\n",
    "$$\\begin{pmatrix}\\text{smoker_yes}\\\\ \\text{smoker_no}\\\\ \\text{smoker_no}\\\\ \\vdots  \\end{pmatrix}=\\begin{bmatrix}\n",
    "    1 & 0 \\\\\n",
    "    0 & 1\\\\\n",
    "    0 & 1\\\\\n",
    "    \\vdots & \\vdots \\\\\n",
    "    \\end{bmatrix} \\; \n",
    "    \\begin{pmatrix}\\text{smoker_yes} \\\\  \\text{smoker_no} \\\\ \\end{pmatrix}$$"
   ]
  },
  {
   "cell_type": "code",
   "execution_count": 13,
   "metadata": {},
   "outputs": [
    {
     "data": {
      "text/html": [
       "<div>\n",
       "<style scoped>\n",
       "    .dataframe tbody tr th:only-of-type {\n",
       "        vertical-align: middle;\n",
       "    }\n",
       "\n",
       "    .dataframe tbody tr th {\n",
       "        vertical-align: top;\n",
       "    }\n",
       "\n",
       "    .dataframe thead th {\n",
       "        text-align: right;\n",
       "    }\n",
       "</style>\n",
       "<table border=\"1\" class=\"dataframe\">\n",
       "  <thead>\n",
       "    <tr style=\"text-align: right;\">\n",
       "      <th></th>\n",
       "      <th>age</th>\n",
       "      <th>bmi</th>\n",
       "      <th>children</th>\n",
       "      <th>charges</th>\n",
       "      <th>sex_female</th>\n",
       "      <th>sex_male</th>\n",
       "      <th>smoker_no</th>\n",
       "      <th>smoker_yes</th>\n",
       "      <th>region_northeast</th>\n",
       "      <th>region_northwest</th>\n",
       "      <th>region_southeast</th>\n",
       "      <th>region_southwest</th>\n",
       "    </tr>\n",
       "  </thead>\n",
       "  <tbody>\n",
       "    <tr>\n",
       "      <th>0</th>\n",
       "      <td>19.0</td>\n",
       "      <td>27.900</td>\n",
       "      <td>0.0</td>\n",
       "      <td>16884.92400</td>\n",
       "      <td>1</td>\n",
       "      <td>0</td>\n",
       "      <td>0</td>\n",
       "      <td>1</td>\n",
       "      <td>0</td>\n",
       "      <td>0</td>\n",
       "      <td>0</td>\n",
       "      <td>1</td>\n",
       "    </tr>\n",
       "    <tr>\n",
       "      <th>1</th>\n",
       "      <td>18.0</td>\n",
       "      <td>33.770</td>\n",
       "      <td>1.0</td>\n",
       "      <td>1725.55230</td>\n",
       "      <td>0</td>\n",
       "      <td>1</td>\n",
       "      <td>1</td>\n",
       "      <td>0</td>\n",
       "      <td>0</td>\n",
       "      <td>0</td>\n",
       "      <td>1</td>\n",
       "      <td>0</td>\n",
       "    </tr>\n",
       "    <tr>\n",
       "      <th>2</th>\n",
       "      <td>28.0</td>\n",
       "      <td>33.000</td>\n",
       "      <td>3.0</td>\n",
       "      <td>4449.46200</td>\n",
       "      <td>0</td>\n",
       "      <td>1</td>\n",
       "      <td>1</td>\n",
       "      <td>0</td>\n",
       "      <td>0</td>\n",
       "      <td>0</td>\n",
       "      <td>1</td>\n",
       "      <td>0</td>\n",
       "    </tr>\n",
       "    <tr>\n",
       "      <th>3</th>\n",
       "      <td>33.0</td>\n",
       "      <td>22.705</td>\n",
       "      <td>0.0</td>\n",
       "      <td>21984.47061</td>\n",
       "      <td>0</td>\n",
       "      <td>1</td>\n",
       "      <td>1</td>\n",
       "      <td>0</td>\n",
       "      <td>0</td>\n",
       "      <td>1</td>\n",
       "      <td>0</td>\n",
       "      <td>0</td>\n",
       "    </tr>\n",
       "    <tr>\n",
       "      <th>4</th>\n",
       "      <td>32.0</td>\n",
       "      <td>28.880</td>\n",
       "      <td>0.0</td>\n",
       "      <td>3866.85520</td>\n",
       "      <td>0</td>\n",
       "      <td>1</td>\n",
       "      <td>1</td>\n",
       "      <td>0</td>\n",
       "      <td>0</td>\n",
       "      <td>1</td>\n",
       "      <td>0</td>\n",
       "      <td>0</td>\n",
       "    </tr>\n",
       "  </tbody>\n",
       "</table>\n",
       "</div>"
      ],
      "text/plain": [
       "    age     bmi  children      charges  sex_female  sex_male  smoker_no  \\\n",
       "0  19.0  27.900       0.0  16884.92400           1         0          0   \n",
       "1  18.0  33.770       1.0   1725.55230           0         1          1   \n",
       "2  28.0  33.000       3.0   4449.46200           0         1          1   \n",
       "3  33.0  22.705       0.0  21984.47061           0         1          1   \n",
       "4  32.0  28.880       0.0   3866.85520           0         1          1   \n",
       "\n",
       "   smoker_yes  region_northeast  region_northwest  region_southeast  \\\n",
       "0           1                 0                 0                 0   \n",
       "1           0                 0                 0                 1   \n",
       "2           0                 0                 0                 1   \n",
       "3           0                 0                 1                 0   \n",
       "4           0                 0                 1                 0   \n",
       "\n",
       "   region_southwest  \n",
       "0                 1  \n",
       "1                 0  \n",
       "2                 0  \n",
       "3                 0  \n",
       "4                 0  "
      ]
     },
     "execution_count": 13,
     "metadata": {},
     "output_type": "execute_result"
    }
   ],
   "source": [
    "df['age'] = df['age'].astype(float)\n",
    "df['children'] = df['children'].astype(float)\n",
    "\n",
    "df = pd.get_dummies(df)\n",
    "\n",
    "df.head()"
   ]
  },
  {
   "cell_type": "code",
   "execution_count": 14,
   "metadata": {},
   "outputs": [],
   "source": [
    "y = df['charges']\n",
    "X = df.drop(columns=['charges'])"
   ]
  },
  {
   "cell_type": "markdown",
   "metadata": {},
   "source": [
    "Since no testing data is provided, we will split the given dataset into training and testing sets."
   ]
  },
  {
   "cell_type": "code",
   "execution_count": 15,
   "metadata": {},
   "outputs": [],
   "source": [
    "from sklearn.model_selection import train_test_split\n",
    "\n",
    "\n",
    "# use 10% of dataset as testing data\n",
    "\n",
    "X_train, X_test, y_train, y_test = train_test_split(\n",
    "    X, y, test_size=0.1, random_state=42)"
   ]
  },
  {
   "cell_type": "code",
   "execution_count": 16,
   "metadata": {},
   "outputs": [
    {
     "name": "stdout",
     "output_type": "stream",
     "text": [
      "MSE train data: 3.6994e+07, MSE test data: 3.2276e+07\n",
      "RMSE train data: 6082.3, RMSE test data: 6082.3\n",
      "R2 train data: 0.74915, R2 test data: 0.76604\n"
     ]
    }
   ],
   "source": [
    "from sklearn.linear_model import LinearRegression\n",
    "from sklearn.metrics import r2_score, mean_squared_error\n",
    "\n",
    "\n",
    "lr = LinearRegression().fit(X_train, y_train)\n",
    "\n",
    "lr_train_pred = lr.predict(X_train)\n",
    "lr_test_pred = lr.predict(X_test)\n",
    "\n",
    "lr_train_mse = mean_squared_error(y_train, lr_train_pred)\n",
    "lr_test_mse = mean_squared_error(y_test, lr_test_pred)\n",
    "\n",
    "print('MSE train data: {:.5}, MSE test data: {:.5}'.format(lr_train_mse, lr_test_mse))\n",
    "\n",
    "print('RMSE train data: {:.5}, RMSE test data: {:.5}'.format(\n",
    "    np.sqrt(np.absolute(lr_train_mse)), \n",
    "    np.sqrt(np.absolute(lr_train_mse))))\n",
    "                                                               \n",
    "print('R2 train data: {:.5}, R2 test data: {:.5}'.format(\n",
    "    r2_score(y_train,lr_train_pred),\n",
    "    r2_score(y_test,lr_test_pred)))"
   ]
  },
  {
   "cell_type": "code",
   "execution_count": 17,
   "metadata": {},
   "outputs": [
    {
     "name": "stdout",
     "output_type": "stream",
     "text": [
      "Accuracy: 0.74 (+/- 0.079)\n"
     ]
    }
   ],
   "source": [
    "from sklearn.model_selection import cross_val_score\n",
    "lr_cv = cross_val_score(LinearRegression(), X, y, cv = 7)\n",
    "# accuracy +/- 2 standard deviations\n",
    "print(\"Accuracy: {:.2} (+/- {:.2})\".format(lr_cv.mean(), lr_cv.std() * 2)) "
   ]
  },
  {
   "cell_type": "markdown",
   "metadata": {},
   "source": [
    "This isn't too bad for a first try. What happens if we implement polynomial features?\n",
    "\n",
    "Polynomial features works on adding a matrix of polynomial coefficients of up to the $k^{th}$ order, generated by non-linear relationships of current features.\n",
    "\n",
    "For the case of $k=2$ it looks something like this:\n",
    "\n",
    "$$A\\cdot(x_1+x_2+..+x_n)^2 = a_1 x_1^2+a_2 x_1 x_2 + a_3 x_2^2+a_4 x_2 x_3+..$$\n",
    "\n",
    "Where $a_i$ represents the coefficient for Linear Regression to manipulate.\n",
    "\n",
    "This helps us see the effect of non-linear relationships between features."
   ]
  },
  {
   "cell_type": "code",
   "execution_count": 19,
   "metadata": {},
   "outputs": [],
   "source": [
    "from sklearn.preprocessing import PolynomialFeatures\n",
    "\n",
    "X_poly =  PolynomialFeatures(degree = 2).fit_transform(X)\n",
    "\n",
    "X_train, X_test, y_train, y_test = train_test_split(\n",
    "    X_poly, y, test_size=0.1, random_state=42)"
   ]
  },
  {
   "cell_type": "code",
   "execution_count": 20,
   "metadata": {},
   "outputs": [
    {
     "name": "stdout",
     "output_type": "stream",
     "text": [
      "MSE train data: 2.2632e+07, MSE test data: 20052020.438064184\n",
      "RMSE train data: 4757.3, RMSE test data: 4757.3\n",
      "R2 train data: 0.84654, R2 test data: 0.85465\n"
     ]
    }
   ],
   "source": [
    "pr = LinearRegression().fit(X_train, y_train)\n",
    "\n",
    "pr_train_pred = pr.predict(X_train)\n",
    "pr_test_pred = pr.predict(X_test)\n",
    "\n",
    "pr_train_mse = mean_squared_error(y_train,pr_train_pred)\n",
    "pr_test_mse = mean_squared_error(y_test,pr_test_pred)\n",
    "\n",
    "\n",
    "print('MSE train data: {:.5}, MSE test data: {}'.format(pr_train_mse, pr_test_mse))\n",
    "\n",
    "print('RMSE train data: {:.5}, RMSE test data: {:.5}'.format(\n",
    "    np.sqrt(np.absolute(pr_train_mse)), \n",
    "    np.sqrt(np.absolute(pr_train_mse))))\n",
    "                                                               \n",
    "print('R2 train data: {:.5}, R2 test data: {:.5}'.format(\n",
    "    r2_score(y_train,pr_train_pred),\n",
    "    r2_score(y_test,pr_test_pred)))"
   ]
  },
  {
   "cell_type": "code",
   "execution_count": 21,
   "metadata": {},
   "outputs": [
    {
     "name": "stdout",
     "output_type": "stream",
     "text": [
      "Accuracy: 0.79 (+/- 0.11)\n"
     ]
    }
   ],
   "source": [
    "pr_cv = cross_val_score(LinearRegression(), X_poly, y, cv = 7)\n",
    "# accuracy +/- 2 standard deviations\n",
    "print(\"Accuracy: {:.2} (+/- {:.2})\".format(pr_cv.mean(), pr_cv.std() * 2)) "
   ]
  },
  {
   "cell_type": "markdown",
   "metadata": {},
   "source": [
    "Splendid! Now we have a better variance score using polynomial relationships."
   ]
  },
  {
   "cell_type": "code",
   "execution_count": 22,
   "metadata": {},
   "outputs": [
    {
     "name": "stdout",
     "output_type": "stream",
     "text": [
      "MSE train data: 3.5373e+06, MSE test data: 2.1427e+07\n",
      "RMSE train data: 1880.8, RMSE test data: 1880.8\n",
      "R2 train data: 0.97601, R2 test data: 0.84468\n"
     ]
    }
   ],
   "source": [
    "from sklearn.ensemble import RandomForestRegressor\n",
    "\n",
    "rfr = RandomForestRegressor(n_estimators = 50).fit(X_train, y_train)\n",
    "\n",
    "rfr_train_pred = rfr.predict(X_train)\n",
    "rfr_test_pred = rfr.predict(X_test)\n",
    "\n",
    "\n",
    "rfr_train_mse = mean_squared_error(y_train,rfr_train_pred)\n",
    "rfr_test_mse = mean_squared_error(y_test,rfr_test_pred)\n",
    "\n",
    "\n",
    "print('MSE train data: {:.5}, MSE test data: {:.5}'.format(rfr_train_mse, rfr_test_mse))\n",
    "\n",
    "print('RMSE train data: {:.5}, RMSE test data: {:.5}'.format(\n",
    "    np.sqrt(np.absolute(rfr_train_mse)), \n",
    "    np.sqrt(np.absolute(rfr_train_mse))))\n",
    "                                                               \n",
    "print('R2 train data: {:.5}, R2 test data: {:.5}'.format(\n",
    "    r2_score(y_train, rfr_train_pred),\n",
    "    r2_score(y_test, rfr_test_pred)))"
   ]
  },
  {
   "cell_type": "code",
   "execution_count": 23,
   "metadata": {},
   "outputs": [
    {
     "name": "stdout",
     "output_type": "stream",
     "text": [
      "Accuracy: 0.83 (+/- 0.084)\n"
     ]
    }
   ],
   "source": [
    "rfr_cv = cross_val_score(RandomForestRegressor(n_estimators = 50), X_poly, y, cv = 7)\n",
    "# accuracy +/- 2 standard deviations\n",
    "print(\"Accuracy: {:.2} (+/- {:.2})\".format(rfr_cv.mean(), rfr_cv.std() * 2)) "
   ]
  },
  {
   "cell_type": "code",
   "execution_count": 24,
   "metadata": {},
   "outputs": [
    {
     "name": "stdout",
     "output_type": "stream",
     "text": [
      "MSE train data: 2.453e+07, MSE test data: 2.0244e+07\n",
      "RMSE train data: 4952.8, RMSE test data: 4952.8\n",
      "R2 train data: 0.83366, R2 test data: 0.85326\n"
     ]
    }
   ],
   "source": [
    "from sklearn.linear_model import BayesianRidge\n",
    "\n",
    "br = BayesianRidge().fit(X_train, y_train)\n",
    "\n",
    "br_train_pred = br.predict(X_train)\n",
    "br_test_pred = br.predict(X_test)\n",
    "\n",
    "\n",
    "br_train_mse = mean_squared_error(y_train, br_train_pred)\n",
    "br_test_mse = mean_squared_error(y_test, br_test_pred)\n",
    "\n",
    "\n",
    "print('MSE train data: {:.5}, MSE test data: {:.5}'.format(br_train_mse, br_test_mse))\n",
    "\n",
    "print('RMSE train data: {:.5}, RMSE test data: {:.5}'.format(\n",
    "    np.sqrt(np.absolute(br_train_mse)), \n",
    "    np.sqrt(np.absolute(br_train_mse))))\n",
    "                                                               \n",
    "print('R2 train data: {:.5}, R2 test data: {:.5}'.format(\n",
    "    r2_score(y_train, br_train_pred),\n",
    "    r2_score(y_test, br_test_pred)))"
   ]
  },
  {
   "cell_type": "code",
   "execution_count": 25,
   "metadata": {},
   "outputs": [
    {
     "name": "stdout",
     "output_type": "stream",
     "text": [
      "Accuracy: 0.83 (+/- 0.069)\n"
     ]
    }
   ],
   "source": [
    "br_cv = cross_val_score(BayesianRidge(), X_poly, y, cv = 7)\n",
    "# accuracy +/- 2 standard deviations\n",
    "print(\"Accuracy: {:.2} (+/- {:.2})\".format(br_cv.mean(), br_cv.std() * 2)) "
   ]
  },
  {
   "cell_type": "markdown",
   "metadata": {},
   "source": [
    "This is a decent prediction, we can safely assume that the Random Forest wins with a variance score of 97% against training data, and 84% against data it has never seen before. It also has the lowest root MSE value.\n",
    "\n",
    "With cross-validation, however, Bayesian regression gets the same average as the Random Forest but with a smaller standard deviation using 7 folds.\n",
    "\n",
    "We do not have to worry about overfitting with Random Forest."
   ]
  },
  {
   "cell_type": "code",
   "execution_count": 31,
   "metadata": {},
   "outputs": [
    {
     "data": {
      "text/html": [
       "<table class=\"simpletable\">\n",
       "<caption>OLS Regression Results</caption>\n",
       "<tr>\n",
       "  <th>Dep. Variable:</th>         <td>charges</td>     <th>  R-squared:         </th> <td>   0.847</td> \n",
       "</tr>\n",
       "<tr>\n",
       "  <th>Model:</th>                   <td>OLS</td>       <th>  Adj. R-squared:    </th> <td>   0.842</td> \n",
       "</tr>\n",
       "<tr>\n",
       "  <th>Method:</th>             <td>Least Squares</td>  <th>  F-statistic:       </th> <td>   178.8</td> \n",
       "</tr>\n",
       "<tr>\n",
       "  <th>Date:</th>             <td>Sat, 30 Nov 2019</td> <th>  Prob (F-statistic):</th>  <td>  0.00</td>  \n",
       "</tr>\n",
       "<tr>\n",
       "  <th>Time:</th>                 <td>20:49:58</td>     <th>  Log-Likelihood:    </th> <td> -11903.</td> \n",
       "</tr>\n",
       "<tr>\n",
       "  <th>No. Observations:</th>      <td>  1204</td>      <th>  AIC:               </th> <td>2.388e+04</td>\n",
       "</tr>\n",
       "<tr>\n",
       "  <th>Df Residuals:</th>          <td>  1167</td>      <th>  BIC:               </th> <td>2.407e+04</td>\n",
       "</tr>\n",
       "<tr>\n",
       "  <th>Df Model:</th>              <td>    36</td>      <th>                     </th>     <td> </td>    \n",
       "</tr>\n",
       "<tr>\n",
       "  <th>Covariance Type:</th>      <td>nonrobust</td>    <th>                     </th>     <td> </td>    \n",
       "</tr>\n",
       "</table>\n",
       "<table class=\"simpletable\">\n",
       "<tr>\n",
       "    <td></td>       <th>coef</th>     <th>std err</th>      <th>t</th>      <th>P>|t|</th>  <th>[0.025</th>    <th>0.975]</th>  \n",
       "</tr>\n",
       "<tr>\n",
       "  <th>const</th> <td>-3332.9124</td> <td>  911.763</td> <td>   -3.655</td> <td> 0.000</td> <td>-5121.791</td> <td>-1544.034</td>\n",
       "</tr>\n",
       "<tr>\n",
       "  <th>x1</th>    <td>  -26.1169</td> <td>   37.198</td> <td>   -0.702</td> <td> 0.483</td> <td>  -99.098</td> <td>   46.865</td>\n",
       "</tr>\n",
       "<tr>\n",
       "  <th>x2</th>    <td>  488.3832</td> <td>   89.138</td> <td>    5.479</td> <td> 0.000</td> <td>  313.494</td> <td>  663.272</td>\n",
       "</tr>\n",
       "<tr>\n",
       "  <th>x3</th>    <td>  572.0793</td> <td>  335.910</td> <td>    1.703</td> <td> 0.089</td> <td>  -86.976</td> <td> 1231.135</td>\n",
       "</tr>\n",
       "<tr>\n",
       "  <th>x4</th>    <td>-1370.6066</td> <td>  543.354</td> <td>   -2.522</td> <td> 0.012</td> <td>-2436.667</td> <td> -304.546</td>\n",
       "</tr>\n",
       "<tr>\n",
       "  <th>x5</th>    <td>-1962.3058</td> <td>  544.081</td> <td>   -3.607</td> <td> 0.000</td> <td>-3029.793</td> <td> -894.819</td>\n",
       "</tr>\n",
       "<tr>\n",
       "  <th>x6</th>    <td> 2173.0810</td> <td>  541.395</td> <td>    4.014</td> <td> 0.000</td> <td> 1110.865</td> <td> 3235.297</td>\n",
       "</tr>\n",
       "<tr>\n",
       "  <th>x7</th>    <td>-5505.9934</td> <td>  626.093</td> <td>   -8.794</td> <td> 0.000</td> <td>-6734.387</td> <td>-4277.600</td>\n",
       "</tr>\n",
       "<tr>\n",
       "  <th>x8</th>    <td> -871.5556</td> <td>  477.548</td> <td>   -1.825</td> <td> 0.068</td> <td>-1808.505</td> <td>   65.394</td>\n",
       "</tr>\n",
       "<tr>\n",
       "  <th>x9</th>    <td>-1047.6317</td> <td>  526.655</td> <td>   -1.989</td> <td> 0.047</td> <td>-2080.928</td> <td>  -14.335</td>\n",
       "</tr>\n",
       "<tr>\n",
       "  <th>x10</th>   <td> -619.1004</td> <td>  613.961</td> <td>   -1.008</td> <td> 0.313</td> <td>-1823.691</td> <td>  585.490</td>\n",
       "</tr>\n",
       "<tr>\n",
       "  <th>x11</th>   <td> -794.6247</td> <td>  526.208</td> <td>   -1.510</td> <td> 0.131</td> <td>-1827.044</td> <td>  237.794</td>\n",
       "</tr>\n",
       "<tr>\n",
       "  <th>x12</th>   <td>    3.8815</td> <td>    0.874</td> <td>    4.440</td> <td> 0.000</td> <td>    2.166</td> <td>    5.597</td>\n",
       "</tr>\n",
       "<tr>\n",
       "  <th>x13</th>   <td>    0.6363</td> <td>    1.746</td> <td>    0.364</td> <td> 0.716</td> <td>   -2.789</td> <td>    4.062</td>\n",
       "</tr>\n",
       "<tr>\n",
       "  <th>x14</th>   <td>  -10.1266</td> <td>    9.181</td> <td>   -1.103</td> <td> 0.270</td> <td>  -28.139</td> <td>    7.886</td>\n",
       "</tr>\n",
       "<tr>\n",
       "  <th>x15</th>   <td>  -18.4099</td> <td>   21.237</td> <td>   -0.867</td> <td> 0.386</td> <td>  -60.076</td> <td>   23.256</td>\n",
       "</tr>\n",
       "<tr>\n",
       "  <th>x16</th>   <td>   -7.7069</td> <td>   21.113</td> <td>   -0.365</td> <td> 0.715</td> <td>  -49.130</td> <td>   33.716</td>\n",
       "</tr>\n",
       "<tr>\n",
       "  <th>x17</th>   <td>  -14.5364</td> <td>   21.438</td> <td>   -0.678</td> <td> 0.498</td> <td>  -56.597</td> <td>   27.525</td>\n",
       "</tr>\n",
       "<tr>\n",
       "  <th>x18</th>   <td>  -11.5805</td> <td>   23.571</td> <td>   -0.491</td> <td> 0.623</td> <td>  -57.827</td> <td>   34.666</td>\n",
       "</tr>\n",
       "<tr>\n",
       "  <th>x19</th>   <td>  -44.4967</td> <td>   19.265</td> <td>   -2.310</td> <td> 0.021</td> <td>  -82.294</td> <td>   -6.700</td>\n",
       "</tr>\n",
       "<tr>\n",
       "  <th>x20</th>   <td>  -10.8170</td> <td>   19.495</td> <td>   -0.555</td> <td> 0.579</td> <td>  -49.067</td> <td>   27.433</td>\n",
       "</tr>\n",
       "<tr>\n",
       "  <th>x21</th>   <td>   12.7486</td> <td>   21.082</td> <td>    0.605</td> <td> 0.545</td> <td>  -28.615</td> <td>   54.112</td>\n",
       "</tr>\n",
       "<tr>\n",
       "  <th>x22</th>   <td>   16.4483</td> <td>   20.421</td> <td>    0.805</td> <td> 0.421</td> <td>  -23.617</td> <td>   56.513</td>\n",
       "</tr>\n",
       "<tr>\n",
       "  <th>x23</th>   <td>   -5.9300</td> <td>    3.176</td> <td>   -1.867</td> <td> 0.062</td> <td>  -12.161</td> <td>    0.301</td>\n",
       "</tr>\n",
       "<tr>\n",
       "  <th>x24</th>   <td>    4.0744</td> <td>   19.991</td> <td>    0.204</td> <td> 0.839</td> <td>  -35.147</td> <td>   43.296</td>\n",
       "</tr>\n",
       "<tr>\n",
       "  <th>x25</th>   <td>  231.0280</td> <td>   50.791</td> <td>    4.549</td> <td> 0.000</td> <td>  131.376</td> <td>  330.680</td>\n",
       "</tr>\n",
       "<tr>\n",
       "  <th>x26</th>   <td>  257.3552</td> <td>   50.691</td> <td>    5.077</td> <td> 0.000</td> <td>  157.899</td> <td>  356.811</td>\n",
       "</tr>\n",
       "<tr>\n",
       "  <th>x27</th>   <td> -498.1010</td> <td>   52.534</td> <td>   -9.481</td> <td> 0.000</td> <td> -601.173</td> <td> -395.029</td>\n",
       "</tr>\n",
       "<tr>\n",
       "  <th>x28</th>   <td>  986.4842</td> <td>   54.958</td> <td>   17.950</td> <td> 0.000</td> <td>  878.656</td> <td> 1094.312</td>\n",
       "</tr>\n",
       "<tr>\n",
       "  <th>x29</th>   <td>  195.8406</td> <td>   44.884</td> <td>    4.363</td> <td> 0.000</td> <td>  107.779</td> <td>  283.902</td>\n",
       "</tr>\n",
       "<tr>\n",
       "  <th>x30</th>   <td>  135.2382</td> <td>   48.385</td> <td>    2.795</td> <td> 0.005</td> <td>   40.307</td> <td>  230.169</td>\n",
       "</tr>\n",
       "<tr>\n",
       "  <th>x31</th>   <td>   65.3659</td> <td>   55.170</td> <td>    1.185</td> <td> 0.236</td> <td>  -42.878</td> <td>  173.610</td>\n",
       "</tr>\n",
       "<tr>\n",
       "  <th>x32</th>   <td>   91.9385</td> <td>   49.167</td> <td>    1.870</td> <td> 0.062</td> <td>   -4.527</td> <td>  188.404</td>\n",
       "</tr>\n",
       "<tr>\n",
       "  <th>x33</th>   <td> -133.2478</td> <td>   87.238</td> <td>   -1.527</td> <td> 0.127</td> <td> -304.408</td> <td>   37.912</td>\n",
       "</tr>\n",
       "<tr>\n",
       "  <th>x34</th>   <td>  399.6679</td> <td>  208.181</td> <td>    1.920</td> <td> 0.055</td> <td>   -8.784</td> <td>  808.119</td>\n",
       "</tr>\n",
       "<tr>\n",
       "  <th>x35</th>   <td>  172.4115</td> <td>  202.754</td> <td>    0.850</td> <td> 0.395</td> <td> -225.391</td> <td>  570.214</td>\n",
       "</tr>\n",
       "<tr>\n",
       "  <th>x36</th>   <td>  482.4174</td> <td>  226.595</td> <td>    2.129</td> <td> 0.033</td> <td>   37.839</td> <td>  926.996</td>\n",
       "</tr>\n",
       "<tr>\n",
       "  <th>x37</th>   <td>   89.6620</td> <td>  229.750</td> <td>    0.390</td> <td> 0.696</td> <td> -361.107</td> <td>  540.431</td>\n",
       "</tr>\n",
       "<tr>\n",
       "  <th>x38</th>   <td>  285.7439</td> <td>  210.815</td> <td>    1.355</td> <td> 0.176</td> <td> -127.874</td> <td>  699.362</td>\n",
       "</tr>\n",
       "<tr>\n",
       "  <th>x39</th>   <td>  480.0479</td> <td>  220.159</td> <td>    2.180</td> <td> 0.029</td> <td>   48.096</td> <td>  911.999</td>\n",
       "</tr>\n",
       "<tr>\n",
       "  <th>x40</th>   <td>  -16.6345</td> <td>  238.785</td> <td>   -0.070</td> <td> 0.944</td> <td> -485.129</td> <td>  451.860</td>\n",
       "</tr>\n",
       "<tr>\n",
       "  <th>x41</th>   <td> -177.0780</td> <td>  219.761</td> <td>   -0.806</td> <td> 0.421</td> <td> -608.249</td> <td>  254.093</td>\n",
       "</tr>\n",
       "<tr>\n",
       "  <th>x42</th>   <td>-1370.6066</td> <td>  543.354</td> <td>   -2.522</td> <td> 0.012</td> <td>-2436.667</td> <td> -304.546</td>\n",
       "</tr>\n",
       "<tr>\n",
       "  <th>x43</th>   <td>         0</td> <td>        0</td> <td>      nan</td> <td>   nan</td> <td>        0</td> <td>        0</td>\n",
       "</tr>\n",
       "<tr>\n",
       "  <th>x44</th>   <td> 1213.4748</td> <td>  355.040</td> <td>    3.418</td> <td> 0.001</td> <td>  516.887</td> <td> 1910.062</td>\n",
       "</tr>\n",
       "<tr>\n",
       "  <th>x45</th>   <td>-2584.0814</td> <td>  379.185</td> <td>   -6.815</td> <td> 0.000</td> <td>-3328.043</td> <td>-1840.120</td>\n",
       "</tr>\n",
       "<tr>\n",
       "  <th>x46</th>   <td> -135.9222</td> <td>  345.092</td> <td>   -0.394</td> <td> 0.694</td> <td> -812.992</td> <td>  541.147</td>\n",
       "</tr>\n",
       "<tr>\n",
       "  <th>x47</th>   <td> -556.0012</td> <td>  373.930</td> <td>   -1.487</td> <td> 0.137</td> <td>-1289.651</td> <td>  177.649</td>\n",
       "</tr>\n",
       "<tr>\n",
       "  <th>x48</th>   <td> -444.6147</td> <td>  415.178</td> <td>   -1.071</td> <td> 0.284</td> <td>-1259.193</td> <td>  369.964</td>\n",
       "</tr>\n",
       "<tr>\n",
       "  <th>x49</th>   <td> -234.0685</td> <td>  358.113</td> <td>   -0.654</td> <td> 0.513</td> <td> -936.686</td> <td>  468.549</td>\n",
       "</tr>\n",
       "<tr>\n",
       "  <th>x50</th>   <td>-1962.3058</td> <td>  544.081</td> <td>   -3.607</td> <td> 0.000</td> <td>-3029.793</td> <td> -894.819</td>\n",
       "</tr>\n",
       "<tr>\n",
       "  <th>x51</th>   <td>  959.6062</td> <td>  341.991</td> <td>    2.806</td> <td> 0.005</td> <td>  288.620</td> <td> 1630.592</td>\n",
       "</tr>\n",
       "<tr>\n",
       "  <th>x52</th>   <td>-2921.9120</td> <td>  413.662</td> <td>   -7.064</td> <td> 0.000</td> <td>-3733.517</td> <td>-2110.307</td>\n",
       "</tr>\n",
       "<tr>\n",
       "  <th>x53</th>   <td> -735.6334</td> <td>  347.141</td> <td>   -2.119</td> <td> 0.034</td> <td>-1416.724</td> <td>  -54.543</td>\n",
       "</tr>\n",
       "<tr>\n",
       "  <th>x54</th>   <td> -491.6305</td> <td>  354.706</td> <td>   -1.386</td> <td> 0.166</td> <td>-1187.562</td> <td>  204.301</td>\n",
       "</tr>\n",
       "<tr>\n",
       "  <th>x55</th>   <td> -174.4857</td> <td>  406.757</td> <td>   -0.429</td> <td> 0.668</td> <td> -972.542</td> <td>  623.570</td>\n",
       "</tr>\n",
       "<tr>\n",
       "  <th>x56</th>   <td> -560.5562</td> <td>  377.738</td> <td>   -1.484</td> <td> 0.138</td> <td>-1301.677</td> <td>  180.565</td>\n",
       "</tr>\n",
       "<tr>\n",
       "  <th>x57</th>   <td> 2173.0810</td> <td>  541.395</td> <td>    4.014</td> <td> 0.000</td> <td> 1110.865</td> <td> 3235.297</td>\n",
       "</tr>\n",
       "<tr>\n",
       "  <th>x58</th>   <td>         0</td> <td>        0</td> <td>      nan</td> <td>   nan</td> <td>        0</td> <td>        0</td>\n",
       "</tr>\n",
       "<tr>\n",
       "  <th>x59</th>   <td>  482.2787</td> <td>  376.350</td> <td>    1.281</td> <td> 0.200</td> <td> -256.119</td> <td> 1220.676</td>\n",
       "</tr>\n",
       "<tr>\n",
       "  <th>x60</th>   <td>  561.4146</td> <td>  389.020</td> <td>    1.443</td> <td> 0.149</td> <td> -201.842</td> <td> 1324.672</td>\n",
       "</tr>\n",
       "<tr>\n",
       "  <th>x61</th>   <td> 1178.5289</td> <td>  436.223</td> <td>    2.702</td> <td> 0.007</td> <td>  322.659</td> <td> 2034.399</td>\n",
       "</tr>\n",
       "<tr>\n",
       "  <th>x62</th>   <td>  -49.1412</td> <td>  386.965</td> <td>   -0.127</td> <td> 0.899</td> <td> -808.366</td> <td>  710.084</td>\n",
       "</tr>\n",
       "<tr>\n",
       "  <th>x63</th>   <td>-5505.9934</td> <td>  626.093</td> <td>   -8.794</td> <td> 0.000</td> <td>-6734.387</td> <td>-4277.600</td>\n",
       "</tr>\n",
       "<tr>\n",
       "  <th>x64</th>   <td>-1353.8344</td> <td>  402.076</td> <td>   -3.367</td> <td> 0.001</td> <td>-2142.708</td> <td> -564.961</td>\n",
       "</tr>\n",
       "<tr>\n",
       "  <th>x65</th>   <td>-1609.0463</td> <td>  448.685</td> <td>   -3.586</td> <td> 0.000</td> <td>-2489.365</td> <td> -728.727</td>\n",
       "</tr>\n",
       "<tr>\n",
       "  <th>x66</th>   <td>-1797.6293</td> <td>  459.579</td> <td>   -3.911</td> <td> 0.000</td> <td>-2699.323</td> <td> -895.936</td>\n",
       "</tr>\n",
       "<tr>\n",
       "  <th>x67</th>   <td> -745.4835</td> <td>  457.404</td> <td>   -1.630</td> <td> 0.103</td> <td>-1642.910</td> <td>  151.943</td>\n",
       "</tr>\n",
       "<tr>\n",
       "  <th>x68</th>   <td> -871.5556</td> <td>  477.548</td> <td>   -1.825</td> <td> 0.068</td> <td>-1808.505</td> <td>   65.394</td>\n",
       "</tr>\n",
       "<tr>\n",
       "  <th>x69</th>   <td>         0</td> <td>        0</td> <td>      nan</td> <td>   nan</td> <td>        0</td> <td>        0</td>\n",
       "</tr>\n",
       "<tr>\n",
       "  <th>x70</th>   <td>         0</td> <td>        0</td> <td>      nan</td> <td>   nan</td> <td>        0</td> <td>        0</td>\n",
       "</tr>\n",
       "<tr>\n",
       "  <th>x71</th>   <td>         0</td> <td>        0</td> <td>      nan</td> <td>   nan</td> <td>        0</td> <td>        0</td>\n",
       "</tr>\n",
       "<tr>\n",
       "  <th>x72</th>   <td>-1047.6317</td> <td>  526.655</td> <td>   -1.989</td> <td> 0.047</td> <td>-2080.928</td> <td>  -14.335</td>\n",
       "</tr>\n",
       "<tr>\n",
       "  <th>x73</th>   <td>         0</td> <td>        0</td> <td>      nan</td> <td>   nan</td> <td>        0</td> <td>        0</td>\n",
       "</tr>\n",
       "<tr>\n",
       "  <th>x74</th>   <td>         0</td> <td>        0</td> <td>      nan</td> <td>   nan</td> <td>        0</td> <td>        0</td>\n",
       "</tr>\n",
       "<tr>\n",
       "  <th>x75</th>   <td> -619.1004</td> <td>  613.961</td> <td>   -1.008</td> <td> 0.313</td> <td>-1823.691</td> <td>  585.490</td>\n",
       "</tr>\n",
       "<tr>\n",
       "  <th>x76</th>   <td>         0</td> <td>        0</td> <td>      nan</td> <td>   nan</td> <td>        0</td> <td>        0</td>\n",
       "</tr>\n",
       "<tr>\n",
       "  <th>x77</th>   <td> -794.6247</td> <td>  526.208</td> <td>   -1.510</td> <td> 0.131</td> <td>-1827.044</td> <td>  237.794</td>\n",
       "</tr>\n",
       "</table>\n",
       "<table class=\"simpletable\">\n",
       "<tr>\n",
       "  <th>Omnibus:</th>       <td>646.708</td> <th>  Durbin-Watson:     </th> <td>   2.082</td>\n",
       "</tr>\n",
       "<tr>\n",
       "  <th>Prob(Omnibus):</th> <td> 0.000</td>  <th>  Jarque-Bera (JB):  </th> <td>3996.965</td>\n",
       "</tr>\n",
       "<tr>\n",
       "  <th>Skew:</th>          <td> 2.504</td>  <th>  Prob(JB):          </th> <td>    0.00</td>\n",
       "</tr>\n",
       "<tr>\n",
       "  <th>Kurtosis:</th>      <td>10.389</td>  <th>  Cond. No.          </th> <td>1.12e+16</td>\n",
       "</tr>\n",
       "</table><br/><br/>Warnings:<br/>[1] Standard Errors assume that the covariance matrix of the errors is correctly specified.<br/>[2] The smallest eigenvalue is 6.52e-23. This might indicate that there are<br/>strong multicollinearity problems or that the design matrix is singular."
      ],
      "text/plain": [
       "<class 'statsmodels.iolib.summary.Summary'>\n",
       "\"\"\"\n",
       "                            OLS Regression Results                            \n",
       "==============================================================================\n",
       "Dep. Variable:                charges   R-squared:                       0.847\n",
       "Model:                            OLS   Adj. R-squared:                  0.842\n",
       "Method:                 Least Squares   F-statistic:                     178.8\n",
       "Date:                Sat, 30 Nov 2019   Prob (F-statistic):               0.00\n",
       "Time:                        20:49:58   Log-Likelihood:                -11903.\n",
       "No. Observations:                1204   AIC:                         2.388e+04\n",
       "Df Residuals:                    1167   BIC:                         2.407e+04\n",
       "Df Model:                          36                                         \n",
       "Covariance Type:            nonrobust                                         \n",
       "==============================================================================\n",
       "                 coef    std err          t      P>|t|      [0.025      0.975]\n",
       "------------------------------------------------------------------------------\n",
       "const      -3332.9124    911.763     -3.655      0.000   -5121.791   -1544.034\n",
       "x1           -26.1169     37.198     -0.702      0.483     -99.098      46.865\n",
       "x2           488.3832     89.138      5.479      0.000     313.494     663.272\n",
       "x3           572.0793    335.910      1.703      0.089     -86.976    1231.135\n",
       "x4         -1370.6066    543.354     -2.522      0.012   -2436.667    -304.546\n",
       "x5         -1962.3058    544.081     -3.607      0.000   -3029.793    -894.819\n",
       "x6          2173.0810    541.395      4.014      0.000    1110.865    3235.297\n",
       "x7         -5505.9934    626.093     -8.794      0.000   -6734.387   -4277.600\n",
       "x8          -871.5556    477.548     -1.825      0.068   -1808.505      65.394\n",
       "x9         -1047.6317    526.655     -1.989      0.047   -2080.928     -14.335\n",
       "x10         -619.1004    613.961     -1.008      0.313   -1823.691     585.490\n",
       "x11         -794.6247    526.208     -1.510      0.131   -1827.044     237.794\n",
       "x12            3.8815      0.874      4.440      0.000       2.166       5.597\n",
       "x13            0.6363      1.746      0.364      0.716      -2.789       4.062\n",
       "x14          -10.1266      9.181     -1.103      0.270     -28.139       7.886\n",
       "x15          -18.4099     21.237     -0.867      0.386     -60.076      23.256\n",
       "x16           -7.7069     21.113     -0.365      0.715     -49.130      33.716\n",
       "x17          -14.5364     21.438     -0.678      0.498     -56.597      27.525\n",
       "x18          -11.5805     23.571     -0.491      0.623     -57.827      34.666\n",
       "x19          -44.4967     19.265     -2.310      0.021     -82.294      -6.700\n",
       "x20          -10.8170     19.495     -0.555      0.579     -49.067      27.433\n",
       "x21           12.7486     21.082      0.605      0.545     -28.615      54.112\n",
       "x22           16.4483     20.421      0.805      0.421     -23.617      56.513\n",
       "x23           -5.9300      3.176     -1.867      0.062     -12.161       0.301\n",
       "x24            4.0744     19.991      0.204      0.839     -35.147      43.296\n",
       "x25          231.0280     50.791      4.549      0.000     131.376     330.680\n",
       "x26          257.3552     50.691      5.077      0.000     157.899     356.811\n",
       "x27         -498.1010     52.534     -9.481      0.000    -601.173    -395.029\n",
       "x28          986.4842     54.958     17.950      0.000     878.656    1094.312\n",
       "x29          195.8406     44.884      4.363      0.000     107.779     283.902\n",
       "x30          135.2382     48.385      2.795      0.005      40.307     230.169\n",
       "x31           65.3659     55.170      1.185      0.236     -42.878     173.610\n",
       "x32           91.9385     49.167      1.870      0.062      -4.527     188.404\n",
       "x33         -133.2478     87.238     -1.527      0.127    -304.408      37.912\n",
       "x34          399.6679    208.181      1.920      0.055      -8.784     808.119\n",
       "x35          172.4115    202.754      0.850      0.395    -225.391     570.214\n",
       "x36          482.4174    226.595      2.129      0.033      37.839     926.996\n",
       "x37           89.6620    229.750      0.390      0.696    -361.107     540.431\n",
       "x38          285.7439    210.815      1.355      0.176    -127.874     699.362\n",
       "x39          480.0479    220.159      2.180      0.029      48.096     911.999\n",
       "x40          -16.6345    238.785     -0.070      0.944    -485.129     451.860\n",
       "x41         -177.0780    219.761     -0.806      0.421    -608.249     254.093\n",
       "x42        -1370.6066    543.354     -2.522      0.012   -2436.667    -304.546\n",
       "x43                 0          0        nan        nan           0           0\n",
       "x44         1213.4748    355.040      3.418      0.001     516.887    1910.062\n",
       "x45        -2584.0814    379.185     -6.815      0.000   -3328.043   -1840.120\n",
       "x46         -135.9222    345.092     -0.394      0.694    -812.992     541.147\n",
       "x47         -556.0012    373.930     -1.487      0.137   -1289.651     177.649\n",
       "x48         -444.6147    415.178     -1.071      0.284   -1259.193     369.964\n",
       "x49         -234.0685    358.113     -0.654      0.513    -936.686     468.549\n",
       "x50        -1962.3058    544.081     -3.607      0.000   -3029.793    -894.819\n",
       "x51          959.6062    341.991      2.806      0.005     288.620    1630.592\n",
       "x52        -2921.9120    413.662     -7.064      0.000   -3733.517   -2110.307\n",
       "x53         -735.6334    347.141     -2.119      0.034   -1416.724     -54.543\n",
       "x54         -491.6305    354.706     -1.386      0.166   -1187.562     204.301\n",
       "x55         -174.4857    406.757     -0.429      0.668    -972.542     623.570\n",
       "x56         -560.5562    377.738     -1.484      0.138   -1301.677     180.565\n",
       "x57         2173.0810    541.395      4.014      0.000    1110.865    3235.297\n",
       "x58                 0          0        nan        nan           0           0\n",
       "x59          482.2787    376.350      1.281      0.200    -256.119    1220.676\n",
       "x60          561.4146    389.020      1.443      0.149    -201.842    1324.672\n",
       "x61         1178.5289    436.223      2.702      0.007     322.659    2034.399\n",
       "x62          -49.1412    386.965     -0.127      0.899    -808.366     710.084\n",
       "x63        -5505.9934    626.093     -8.794      0.000   -6734.387   -4277.600\n",
       "x64        -1353.8344    402.076     -3.367      0.001   -2142.708    -564.961\n",
       "x65        -1609.0463    448.685     -3.586      0.000   -2489.365    -728.727\n",
       "x66        -1797.6293    459.579     -3.911      0.000   -2699.323    -895.936\n",
       "x67         -745.4835    457.404     -1.630      0.103   -1642.910     151.943\n",
       "x68         -871.5556    477.548     -1.825      0.068   -1808.505      65.394\n",
       "x69                 0          0        nan        nan           0           0\n",
       "x70                 0          0        nan        nan           0           0\n",
       "x71                 0          0        nan        nan           0           0\n",
       "x72        -1047.6317    526.655     -1.989      0.047   -2080.928     -14.335\n",
       "x73                 0          0        nan        nan           0           0\n",
       "x74                 0          0        nan        nan           0           0\n",
       "x75         -619.1004    613.961     -1.008      0.313   -1823.691     585.490\n",
       "x76                 0          0        nan        nan           0           0\n",
       "x77         -794.6247    526.208     -1.510      0.131   -1827.044     237.794\n",
       "==============================================================================\n",
       "Omnibus:                      646.708   Durbin-Watson:                   2.082\n",
       "Prob(Omnibus):                  0.000   Jarque-Bera (JB):             3996.965\n",
       "Skew:                           2.504   Prob(JB):                         0.00\n",
       "Kurtosis:                      10.389   Cond. No.                     1.12e+16\n",
       "==============================================================================\n",
       "\n",
       "Warnings:\n",
       "[1] Standard Errors assume that the covariance matrix of the errors is correctly specified.\n",
       "[2] The smallest eigenvalue is 6.52e-23. This might indicate that there are\n",
       "strong multicollinearity problems or that the design matrix is singular.\n",
       "\"\"\""
      ]
     },
     "execution_count": 31,
     "metadata": {},
     "output_type": "execute_result"
    }
   ],
   "source": [
    "import statsmodels.api as sm\n",
    "lm=sm.OLS(y_train, X_train).fit()\n",
    "lm.summary()"
   ]
  }
 ],
 "metadata": {
  "kernelspec": {
   "display_name": "Python 3",
   "language": "python",
   "name": "python3"
  },
  "language_info": {
   "codemirror_mode": {
    "name": "ipython",
    "version": 3
   },
   "file_extension": ".py",
   "mimetype": "text/x-python",
   "name": "python",
   "nbconvert_exporter": "python",
   "pygments_lexer": "ipython3",
   "version": "3.7.3"
  }
 },
 "nbformat": 4,
 "nbformat_minor": 2
}
